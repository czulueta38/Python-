{
 "cells": [
  {
   "cell_type": "code",
   "execution_count": 1,
   "metadata": {},
   "outputs": [
    {
     "name": "stdout",
     "output_type": "stream",
     "text": [
      "showing info https://raw.githubusercontent.com/nltk/nltk_data/gh-pages/index.xml\n"
     ]
    },
    {
     "data": {
      "text/plain": [
       "True"
      ]
     },
     "execution_count": 1,
     "metadata": {},
     "output_type": "execute_result"
    }
   ],
   "source": [
    "import numpy\n",
    "import matplotlib\n",
    "import nltk\n",
    "nltk.download()"
   ]
  },
  {
   "cell_type": "code",
   "execution_count": 2,
   "metadata": {},
   "outputs": [
    {
     "name": "stdout",
     "output_type": "stream",
     "text": [
      "*** Introductory Examples for the NLTK Book ***\n",
      "Loading text1, ..., text9 and sent1, ..., sent9\n",
      "Type the name of the text or sentence to view it.\n",
      "Type: 'texts()' or 'sents()' to list the materials.\n",
      "text1: Moby Dick by Herman Melville 1851\n",
      "text2: Sense and Sensibility by Jane Austen 1811\n",
      "text3: The Book of Genesis\n",
      "text4: Inaugural Address Corpus\n",
      "text5: Chat Corpus\n",
      "text6: Monty Python and the Holy Grail\n",
      "text7: Wall Street Journal\n",
      "text8: Personals Corpus\n",
      "text9: The Man Who Was Thursday by G . K . Chesterton 1908\n"
     ]
    }
   ],
   "source": [
    "from nltk.book import *"
   ]
  },
  {
   "cell_type": "code",
   "execution_count": 3,
   "metadata": {},
   "outputs": [
    {
     "data": {
      "text/plain": [
       "<Text: Wall Street Journal>"
      ]
     },
     "execution_count": 3,
     "metadata": {},
     "output_type": "execute_result"
    }
   ],
   "source": [
    "text7"
   ]
  },
  {
   "cell_type": "code",
   "execution_count": 4,
   "metadata": {},
   "outputs": [
    {
     "name": "stdout",
     "output_type": "stream",
     "text": [
      "Displaying 1 of 1 matches:\n",
      ", they 're looking forward to their winter meeting -- Boca in February . South\n"
     ]
    }
   ],
   "source": [
    "text7.concordance(\"winter\")"
   ]
  },
  {
   "cell_type": "code",
   "execution_count": 5,
   "metadata": {},
   "outputs": [
    {
     "name": "stdout",
     "output_type": "stream",
     "text": [
      "no matches\n"
     ]
    }
   ],
   "source": [
    "text7.concordance(\"political ally\") # I could not find any matches for political ally "
   ]
  },
  {
   "cell_type": "code",
   "execution_count": 7,
   "metadata": {},
   "outputs": [
    {
     "name": "stdout",
     "output_type": "stream",
     "text": [
      "Displaying 20 of 20 matches:\n",
      "d *T*-2 . Mr. Rowe also noted that political concerns also worried New England \n",
      "'t take much * to get burned *-1 . Political and currency gyrations can whipsaw\n",
      "years a secondary presence in most political campaigns , became the main event \n",
      "country . But in the three leading political contests of 1989 , the negative ad\n",
      "-1 Joseph Napolitan , a pioneer in political television , `` the idea is * to a\n",
      ", '' says *T*-2 Douglas Bailey , a political consultant , `` your TV ad needs *\n",
      "igned * *-1 to prosecute a case of political corruption that *T*-74 simply does\n",
      "Frank Greer that analysts of every political persuasion agree 0 *T*-1 was a tou\n",
      "er , '' says *T*-1 Mark Rozell , a political scientist at Mary Washington Colle\n",
      " would devote the remainder of the political season to positive campaigning , b\n",
      "ng the truth ? Stephen Salmore , a political scientist at New Jersey 's Eagleto\n",
      "gion . But it resists *-1 yielding political ground . In the coming decade , an\n",
      " framework for closer economic and political ties . The economic and foreign mi\n",
      " to continue *-1 playing a leading political role in the region . `` In Asia , \n",
      "it . Mr. Pickens made considerable political hay with his troubles in Japan . T\n",
      "the building schemes of our modern political pharaohs , or let private money er\n",
      "law firms , investment bankers and political consultants , including Reagan con\n",
      "escribed *-1 as *-4 belonging to a political insider commercial party . They kn\n",
      "t because they line the pockets of political insiders ? This is the real issue \n",
      "rs represent different ends of the political spectrum -- Mr. Kurland is a conse\n"
     ]
    }
   ],
   "source": [
    "text7.concordance(\"political\") #to double check whether or not poltical ally was in the wall street journal I looked up the word political "
   ]
  },
  {
   "cell_type": "code",
   "execution_count": 9,
   "metadata": {},
   "outputs": [
    {
     "name": "stdout",
     "output_type": "stream",
     "text": [
      "no matches\n"
     ]
    }
   ],
   "source": [
    "text7.concordance(\"ally\") #I then typed in the word ally and there were again no matches which leaves me to believe that political ally is not in the text "
   ]
  },
  {
   "cell_type": "code",
   "execution_count": 8,
   "metadata": {},
   "outputs": [
    {
     "data": {
      "image/png": "[encoded data removed]",
      "text/plain": [
       "<Figure size 432x288 with 1 Axes>"
      ]
     },
     "metadata": {
      "needs_background": "light"
     },
     "output_type": "display_data"
    }
   ],
   "source": [
    "text7.dispersion_plot([\"whale\", \"fish\", \"monstrous\", \"animal\"]) # I was not sure if we had to do this for text 7 only so I did it for all the text "
   ]
  },
  {
   "cell_type": "code",
   "execution_count": 10,
   "metadata": {},
   "outputs": [
    {
     "data": {
      "image/png": "[encoded data removed]",
      "text/plain": [
       "<Figure size 432x288 with 1 Axes>"
      ]
     },
     "metadata": {
      "needs_background": "light"
     },
     "output_type": "display_data"
    }
   ],
   "source": [
    "text1.dispersion_plot([\"whale\", \"fish\", \"monstrous\", \"animal\"]) #text 1 dispersion plot"
   ]
  },
  {
   "cell_type": "code",
   "execution_count": 11,
   "metadata": {},
   "outputs": [
    {
     "data": {
      "image/png": "[encoded data removed]",
      "text/plain": [
       "<Figure size 432x288 with 1 Axes>"
      ]
     },
     "metadata": {
      "needs_background": "light"
     },
     "output_type": "display_data"
    }
   ],
   "source": [
    "text2.dispersion_plot([\"whale\", \"fish\", \"monstrous\", \"animal\"])"
   ]
  },
  {
   "cell_type": "code",
   "execution_count": 12,
   "metadata": {},
   "outputs": [
    {
     "data": {
      "image/png": "[encoded data removed]",
      "text/plain": [
       "<Figure size 432x288 with 1 Axes>"
      ]
     },
     "metadata": {
      "needs_background": "light"
     },
     "output_type": "display_data"
    }
   ],
   "source": [
    "text3.dispersion_plot([\"whale\", \"fish\", \"monstrous\", \"animal\"])"
   ]
  },
  {
   "cell_type": "code",
   "execution_count": 13,
   "metadata": {},
   "outputs": [
    {
     "data": {
      "image/png": "[encoded data removed]",
      "text/plain": [
       "<Figure size 432x288 with 1 Axes>"
      ]
     },
     "metadata": {
      "needs_background": "light"
     },
     "output_type": "display_data"
    }
   ],
   "source": [
    "text4.dispersion_plot([\"whale\", \"fish\", \"monstrous\", \"animal\"])"
   ]
  },
  {
   "cell_type": "code",
   "execution_count": 14,
   "metadata": {},
   "outputs": [
    {
     "data": {
      "image/png": "[encoded data removed]",
      "text/plain": [
       "<Figure size 432x288 with 1 Axes>"
      ]
     },
     "metadata": {
      "needs_background": "light"
     },
     "output_type": "display_data"
    }
   ],
   "source": [
    "text5.dispersion_plot([\"whale\", \"fish\", \"monstrous\", \"animal\"])"
   ]
  },
  {
   "cell_type": "code",
   "execution_count": 15,
   "metadata": {},
   "outputs": [
    {
     "data": {
      "image/png": "[encoded data removed]",
      "text/plain": [
       "<Figure size 432x288 with 1 Axes>"
      ]
     },
     "metadata": {
      "needs_background": "light"
     },
     "output_type": "display_data"
    }
   ],
   "source": [
    "text6.dispersion_plot([\"whale\", \"fish\", \"monstrous\", \"animal\"])"
   ]
  },
  {
   "cell_type": "code",
   "execution_count": 16,
   "metadata": {},
   "outputs": [
    {
     "data": {
      "image/png": "[encoded data removed]",
      "text/plain": [
       "<Figure size 432x288 with 1 Axes>"
      ]
     },
     "metadata": {
      "needs_background": "light"
     },
     "output_type": "display_data"
    }
   ],
   "source": [
    "text8.dispersion_plot([\"whale\", \"fish\", \"monstrous\", \"animal\"])"
   ]
  },
  {
   "cell_type": "code",
   "execution_count": 17,
   "metadata": {},
   "outputs": [
    {
     "data": {
      "image/png": "[encoded data removed]",
      "text/plain": [
       "<Figure size 432x288 with 1 Axes>"
      ]
     },
     "metadata": {
      "needs_background": "light"
     },
     "output_type": "display_data"
    }
   ],
   "source": [
    "text9.dispersion_plot([\"whale\", \"fish\", \"monstrous\", \"animal\"])"
   ]
  },
  {
   "cell_type": "code",
   "execution_count": 18,
   "metadata": {},
   "outputs": [
    {
     "name": "stderr",
     "output_type": "stream",
     "text": [
      "Building ngram index...\n"
     ]
    },
    {
     "name": "stdout",
     "output_type": "stream",
     "text": [
      "has *-2 to close at 2645.90 in moderate trading , a large addition or\n",
      "subtraction to a new public spirit for school betterment . *-1 to beat\n",
      "the tests themselves that critics say 0 Columbia 's junk problems\n",
      "*T*-1 . Sea Containers is still : ` * Buy , ' '' he said *T*-2 Mr.\n",
      "Guffey , `` and I 'm afraid 0 I reached *T*-1 . After the first 0 it\n",
      "believes 0 the Big Board 's leadership -- over the next 12 months --\n",
      "vs. a `` reckless course of action '' for President Bush must decide\n",
      "whether\n"
     ]
    },
    {
     "data": {
      "text/plain": [
       "\"has *-2 to close at 2645.90 in moderate trading , a large addition or\\nsubtraction to a new public spirit for school betterment . *-1 to beat\\nthe tests themselves that critics say 0 Columbia 's junk problems\\n*T*-1 . Sea Containers is still : ` * Buy , ' '' he said *T*-2 Mr.\\nGuffey , `` and I 'm afraid 0 I reached *T*-1 . After the first 0 it\\nbelieves 0 the Big Board 's leadership -- over the next 12 months --\\nvs. a `` reckless course of action '' for President Bush must decide\\nwhether\""
      ]
     },
     "execution_count": 18,
     "metadata": {},
     "output_type": "execute_result"
    }
   ],
   "source": [
    "text7.generate()"
   ]
  },
  {
   "cell_type": "code",
   "execution_count": 19,
   "metadata": {},
   "outputs": [
    {
     "name": "stderr",
     "output_type": "stream",
     "text": [
      "Building ngram index...\n"
     ]
    },
    {
     "name": "stdout",
     "output_type": "stream",
     "text": [
      "has *-2 to close at 2645.90 in moderate trading , a large addition or\n",
      "subtraction to a new public spirit for school betterment . *-1 to beat\n",
      "the tests themselves that critics say 0 Columbia 's junk problems\n",
      "*T*-1 . Sea Containers is still : ` * Buy , ' '' he said *T*-2 Mr.\n",
      "Guffey , `` and I 'm afraid 0 I reached *T*-1 . After the first 0 it\n",
      "believes 0 the Big Board 's leadership -- over the next 12 months --\n",
      "vs. a `` reckless course of action '' for President Bush must decide\n",
      "whether\n"
     ]
    },
    {
     "data": {
      "text/plain": [
       "\"has *-2 to close at 2645.90 in moderate trading , a large addition or\\nsubtraction to a new public spirit for school betterment . *-1 to beat\\nthe tests themselves that critics say 0 Columbia 's junk problems\\n*T*-1 . Sea Containers is still : ` * Buy , ' '' he said *T*-2 Mr.\\nGuffey , `` and I 'm afraid 0 I reached *T*-1 . After the first 0 it\\nbelieves 0 the Big Board 's leadership -- over the next 12 months --\\nvs. a `` reckless course of action '' for President Bush must decide\\nwhether\""
      ]
     },
     "execution_count": 19,
     "metadata": {},
     "output_type": "execute_result"
    }
   ],
   "source": [
    "text7.generate() #when I run this code several times I notice that it still comes out in the same order meaning that it is not actually random "
   ]
  },
  {
   "cell_type": "code",
   "execution_count": 20,
   "metadata": {},
   "outputs": [
    {
     "name": "stdout",
     "output_type": "stream",
     "text": [
      "Displaying 25 of 822 matches:\n",
      "ast PART 24 / m boo . 26 / m and sexy lol U115 boo . JOIN PART he drew a girl w\n",
      "ope he didnt draw a penis PART ewwwww lol & a head between her legs JOIN JOIN s\n",
      "a bowl i got a blunt an a bong ...... lol JOIN well , glad it worked out my cha\n",
      "e \" PART Hi U121 in ny . ACTION would lol @ U121 . . . but appearently she does\n",
      "30 make sure u buy a nice ring for U6 lol U7 Hi U115 . ACTION isnt falling for \n",
      " didnt ya hear !!!! PART JOIN geeshhh lol U6 PART hes deaf ppl here dont get it\n",
      "es nobody here i wanna misbeahve with lol JOIN so read it . thanks U7 .. Im hap\n",
      "ies want to chat can i talk to him !! lol U121 !!! forwards too lol JOIN ALL PE\n",
      "k to him !! lol U121 !!! forwards too lol JOIN ALL PErvs ... redirect to U121 '\n",
      " loves ME the most i love myself JOIN lol U44 how do u know that what ? jerkett\n",
      "ng wrong ... i can see it in his eyes lol U20 = fiance Jerketts lmao wtf yah I \n",
      "cooler by the minute what 'd I miss ? lol noo there too much work ! why not ?? \n",
      " that mean I want you ? U6 hello room lol U83 and this .. has been the grammar \n",
      " the rule he 's in PM land now though lol ah ok i wont bug em then someone wann\n",
      "flight to hell :) lmao bbl maybe PART LOL lol U7 it was me , U83 hahah U83 ! 80\n",
      "ht to hell :) lmao bbl maybe PART LOL lol U7 it was me , U83 hahah U83 ! 808265\n",
      "082653953 K-Fed got his ass kicked .. Lol . ACTION laughs . i got a first class\n",
      " . i got a first class ticket to hell lol U7 JOIN any texas girls in here ? any\n",
      " . whats up U155 i was only kidding . lol he 's a douchebag . Poor U121 i 'm bo\n",
      " ??? sits with U30 Cum to my shower . lol U121 . ACTION U1370 watches his nads \n",
      " ur nad with a stick . ca u U23 ewwww lol *sniffs* ewwwwww PART U115 ! owww spl\n",
      "ACTION is resisting . ur female right lol U115 beeeeehave Remember the LAst tim\n",
      "pm's me . charge that is 1.99 / min . lol @ innocent hahah lol .... yeah LOLOLO\n",
      " is 1.99 / min . lol @ innocent hahah lol .... yeah LOLOLOLLL U12 thats not nic\n",
      "s . lmao no U115 Check my record . :) Lol lick em U7 U23 how old r u lol Way to\n"
     ]
    }
   ],
   "source": [
    "text5.concordance(\"lol\")"
   ]
  },
  {
   "cell_type": "code",
   "execution_count": 21,
   "metadata": {},
   "outputs": [
    {
     "data": {
      "text/plain": [
       "704"
      ]
     },
     "execution_count": 21,
     "metadata": {},
     "output_type": "execute_result"
    }
   ],
   "source": [
    "text5.count(\"lol\") # number of times lol is used in text 5"
   ]
  },
  {
   "cell_type": "code",
   "execution_count": 22,
   "metadata": {},
   "outputs": [
    {
     "data": {
      "text/plain": [
       "1.5640968673628082"
      ]
     },
     "execution_count": 22,
     "metadata": {},
     "output_type": "execute_result"
    }
   ],
   "source": [
    "100 * text5.count('lol') / len(text5) #percentage of word used in text "
   ]
  },
  {
   "cell_type": "code",
   "execution_count": null,
   "metadata": {},
   "outputs": [],
   "source": []
  }
 ],
 "metadata": {
  "kernelspec": {
   "display_name": "Python 3",
   "language": "python",
   "name": "python3"
  },
  "language_info": {
   "codemirror_mode": {
    "name": "ipython",
    "version": 3
   },
   "file_extension": ".py",
   "mimetype": "text/x-python",
   "name": "python",
   "nbconvert_exporter": "python",
   "pygments_lexer": "ipython3",
   "version": "3.6.9"
  }
 },
 "nbformat": 4,
 "nbformat_minor": 4
}
